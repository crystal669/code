{
 "cells": [
  {
   "cell_type": "code",
   "execution_count": 34,
   "metadata": {},
   "outputs": [],
   "source": [
    "import numpy as np\n",
    "import pandas as pd\n",
    "import os\n",
    "\n",
    "def convert_course_type(x,list_type):\n",
    "    ty = 0\n",
    "    if x in list_type:\n",
    "        ty = list_type.index(x)+1\n",
    "    return ty\n",
    "\n",
    "def convert_course_category(x,list_category):\n",
    "    cat = 0\n",
    "    if x in list_category:\n",
    "        cat = list_category.index(x)+1\n",
    "    return cat\n"
   ]
  },
  {
   "cell_type": "code",
   "execution_count": 35,
   "metadata": {},
   "outputs": [],
   "source": [
    "\n",
    "read_course_path='F:\\\\DeepLearning\\\\DataSet\\\\mydataset\\\\process\\\\kddcup\\\\user_info\\\\course_info.csv'\n",
    "save_dir='F:\\\\DeepLearning\\\\DataSet\\\\mydataset\\\\process\\\\kddcup\\\\user_info'\n",
    "\n"
   ]
  },
  {
   "cell_type": "code",
   "execution_count": 36,
   "metadata": {
    "scrolled": false
   },
   "outputs": [],
   "source": [
    "course_data = pd.read_csv(read_course_path)\n",
    "\n",
    "course_type = course_data['course_type']\n",
    "course_category = course_data['category']\n",
    "# 序列去重\n",
    "#course_type.drop_duplicates()\n",
    "list_type = course_type.drop_duplicates().dropna().tolist()\n",
    "list_category = course_category.drop_duplicates().dropna().tolist()\n",
    "\n",
    "\n",
    "#对每个属性进行转换\n",
    "course_data['course_type'] = course_data['course_type'].apply(lambda x: convert_course_type(x,list_type))\n",
    "course_data['category'] = course_data['category'].apply(lambda x: convert_course_category(x,list_category))\n",
    "\n",
    "new_data=course_data.loc[:, ['course_id', 'course_type', 'category']]\n"
   ]
  },
  {
   "cell_type": "code",
   "execution_count": 40,
   "metadata": {},
   "outputs": [
    {
     "name": "stdout",
     "output_type": "stream",
     "text": [
      "6410\n",
      "2\n",
      "6410\n",
      "['philosophy', 'engineering', 'history', 'social science', 'economics', 'literature', 'business', 'biology', 'physics', 'computer', 'foreign language', 'medicine', 'math', 'art', 'chemistry', 'education', 'electrical', 'environment']\n",
      "18\n"
     ]
    }
   ],
   "source": [
    "#get type num\n",
    "print(len(course_type))\n",
    "print(len(list_type))\n",
    "# get category num\n",
    "print(len(course_category ))\n",
    "print(list_category)\n",
    "print(len(list_category))"
   ]
  },
  {
   "cell_type": "code",
   "execution_count": 39,
   "metadata": {},
   "outputs": [],
   "source": [
    "#是创建目录，而不是创建文件\n",
    "if not os.path.exists(save_dir):\n",
    "    os.makedirs(save_dir)\n",
    "\n",
    "#保存文件\n",
    "new_data.to_csv(os.path.join(save_dir, 'process_course_info.csv'), index=False)"
   ]
  },
  {
   "cell_type": "code",
   "execution_count": null,
   "metadata": {},
   "outputs": [],
   "source": []
  }
 ],
 "metadata": {
  "kernelspec": {
   "display_name": "Python [conda env:tensorflow]",
   "language": "python",
   "name": "conda-env-tensorflow-py"
  },
  "language_info": {
   "codemirror_mode": {
    "name": "ipython",
    "version": 3
   },
   "file_extension": ".py",
   "mimetype": "text/x-python",
   "name": "python",
   "nbconvert_exporter": "python",
   "pygments_lexer": "ipython3",
   "version": "3.7.9"
  }
 },
 "nbformat": 4,
 "nbformat_minor": 2
}
