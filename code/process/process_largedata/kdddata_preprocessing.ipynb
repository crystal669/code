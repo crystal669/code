{
 "cells": [
  {
   "cell_type": "code",
   "execution_count": 2,
   "metadata": {},
   "outputs": [],
   "source": [
    "import pandas as pd\n",
    "import numpy as np\n",
    "import os\n",
    "\n",
    "#train\n",
    "read_data='/home/y202639/dataset/raw/kddcup15/kddcup15/train/train'\n",
    "#test\n",
    "#'/home/y202639/dataset/raw/kddcup15/kddcup15/test/test'\n",
    "\n",
    "#train\n",
    "save_data='/home/y202639/dataset/process/kddcup15/train'\n",
    "#test\n",
    "#'/home/y202639/dataset/process/kddcup15/test'\n",
    "\n",
    "file_list=os.listdir(read_data)\n",
    "\n",
    "for file in file_list:\n",
    "    if file=='log_train.csv' or file=='log_test.csv':\n",
    "        data=pd.read_csv(os.path.join(read_data,file))\n",
    "        break"
   ]
  },
  {
   "cell_type": "code",
   "execution_count": null,
   "metadata": {},
   "outputs": [],
   "source": [
    "\n"
   ]
  },
  {
   "cell_type": "code",
   "execution_count": null,
   "metadata": {},
   "outputs": [
    {
     "name": "stdout",
     "output_type": "stream",
     "text": [
      "dataframe empty!\n",
      "dataframe empty!\n",
      "dataframe empty!\n",
      "dataframe empty!\n",
      "dataframe empty!\n"
     ]
    }
   ],
   "source": [
    "#新建dataframe\n",
    "#https://blog.csdn.net/Parzival_/article/details/114240650\n",
    "#追加数据：\n",
    "#https://blog.csdn.net/weixin_43938251/article/details/108256073\n",
    "#https://blog.csdn.net/sinat_29957455/article/details/84961936\n",
    "\n",
    "#df2 = pd.DataFrame(data,columns=['name','num','color'])\n",
    "new_data=pd.DataFrame(columns=['enrollment_id','event','start_time','end_time'])\n",
    "\n",
    "#创建空列表\n",
    "temp_list=[]\n",
    "\n",
    "#遍历train_data\n",
    "i=0\n",
    "for row in data.itertuples(): \n",
    "    if new_data.empty:\n",
    "        print('dataframe empty!')\n",
    "        if row.event==\"problem\" or row.event==\"video\":\n",
    "            stu_dict={\"enrollment_id\":row.enrollment_id,\"event\":row.event,\"start_time\":row.time,\"end_time\":\"empty\"} \n",
    "\n",
    "            #设置index不重复出现\n",
    "            new_data=new_data.append(stu_dict,ignore_index=True)\n",
    "    else:\n",
    "        #获取新dataframe的最后一个索引值\n",
    "        nd_index=new_data.index.values[-1]\n",
    "        #根据索引获取dataframe的某一行\n",
    "        if row.enrollment_id==new_data.loc[nd_index].enrollment_id:\n",
    "            if row.event!=new_data.loc[nd_index].event and new_data.loc[nd_index].end_time==\"empty\":\n",
    "                #按照行号、列名进行修改，否则会修改失败\n",
    "                new_data.loc[nd_index,'end_time']=row.time\n",
    "                #print(new_train_data.loc[ntd_index].end_time)\n",
    "            if (row.event==\"problem\" or row.event==\"video\") and new_data.loc[nd_index].end_time!=\"empty\":\n",
    "                stu_dict={\"enrollment_id\":row.enrollment_id,\"event\":row.event,\"start_time\":row.time,\"end_time\":\"empty\"} \n",
    "                #设置index不重复出现\n",
    "                new_data=new_data.append(stu_dict,ignore_index=True)\n",
    "        else:\n",
    "            if row.event==\"problem\" or row.event==\"video\":\n",
    "                stu_dict={\"enrollment_id\":row.enrollment_id,\"event\":row.event,\"start_time\":row.time,\"end_time\":\"empty\"}\n",
    "                #设置index不重复出现\n",
    "                new_data=new_data.append(stu_dict,ignore_index=True)\n",
    "    #存储本次数据\n",
    "    #temp_list.clear()\n",
    "    #temp_list.extend(row.enrollment_id,row.event,row.time)\n",
    "print(new_data)"
   ]
  },
  {
   "cell_type": "code",
   "execution_count": 43,
   "metadata": {},
   "outputs": [
    {
     "name": "stdout",
     "output_type": "stream",
     "text": [
      "0\n"
     ]
    }
   ],
   "source": []
  },
  {
   "cell_type": "code",
   "execution_count": null,
   "metadata": {},
   "outputs": [],
   "source": [
    "#保存文件\n",
    "if file=='log_train.csv':\n",
    "    path=os.path.join(save_data,'log_train.csv')#log_test.csv\n",
    "elif file=='log_test.csv':\n",
    "    path=os.path.join(save_data,'log_test.csv')\n",
    "new_data.to_csv(path,sep=',',index=False,header=True)\n",
    "print('save successfully!')"
   ]
  },
  {
   "cell_type": "code",
   "execution_count": null,
   "metadata": {},
   "outputs": [],
   "source": []
  }
 ],
 "metadata": {
  "kernelspec": {
   "display_name": "Python [conda env:tensorflow]",
   "language": "python",
   "name": "conda-env-tensorflow-py"
  },
  "language_info": {
   "codemirror_mode": {
    "name": "ipython",
    "version": 3
   },
   "file_extension": ".py",
   "mimetype": "text/x-python",
   "name": "python",
   "nbconvert_exporter": "python",
   "pygments_lexer": "ipython3",
   "version": "3.7.9"
  }
 },
 "nbformat": 4,
 "nbformat_minor": 2
}
