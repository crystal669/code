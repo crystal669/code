{
 "cells": [
  {
   "cell_type": "code",
   "execution_count": 9,
   "metadata": {},
   "outputs": [],
   "source": [
    "import pandas as pd\n",
    "import numpy as np\n",
    "import os"
   ]
  },
  {
   "cell_type": "code",
   "execution_count": 10,
   "metadata": {},
   "outputs": [],
   "source": [
    "read_path1='F:\\\\DeepLearning\\\\DataSet\\\\mydataset\\\\raw\\\\kddcup15\\\\kddcup15\\\\prediction_log\\\\train_log.csv'\n",
    "read_path2='F:\\\\DeepLearning\\\\DataSet\\\\mydataset\\\\raw\\\\kddcup15\\\\kddcup15\\\\prediction_log\\\\test_log.csv'\n",
    "\n",
    "save_path='F:\\DeepLearning\\DataSet\\mydataset\\process\\kddcup\\\\kddData_info.csv'"
   ]
  },
  {
   "cell_type": "code",
   "execution_count": null,
   "metadata": {},
   "outputs": [],
   "source": [
    "train_data=pd.read_csv(read_path1,nrows=100)\n",
    "test_data=pd.read_csv(read_path2,nrows=100)"
   ]
  },
  {
   "cell_type": "code",
   "execution_count": null,
   "metadata": {},
   "outputs": [],
   "source": [
    "data=pd.concat((train_data,test_data),axis=0)"
   ]
  },
  {
   "cell_type": "code",
   "execution_count": null,
   "metadata": {},
   "outputs": [],
   "source": [
    "groups=data.groupby(data['enroll_id'])\n",
    "list_enroll=data['enroll_id'].drop_duplicates().dropna().to_list()\n",
    "Data=pd.DataFrame()\n",
    "en_data=pd.DataFrame()\n",
    "\n",
    "for en in list_enroll:\n",
    "    en_data=groups.get_group(en)\n",
    "    #重置索引必须inplace=True,drop=True去掉index列\n",
    "    en_data.reset_index(drop=True,inplace=True)\n",
    "    #按照日期排序\n",
    "    #print(\"sort:\")\n",
    "    en_data=en_data.sort_values(by='time',ascending=True)\n",
    "    if(list_enroll.index(en)==0):\n",
    "        Data=en_data\n",
    "    else:\n",
    "        Data=pd.concat((Data,en_data),axis=0)"
   ]
  },
  {
   "cell_type": "code",
   "execution_count": null,
   "metadata": {},
   "outputs": [],
   "source": [
    "Data.to_csv(save_path,index=False)"
   ]
  },
  {
   "cell_type": "code",
   "execution_count": null,
   "metadata": {},
   "outputs": [],
   "source": []
  }
 ],
 "metadata": {
  "kernelspec": {
   "display_name": "Python [conda env:tensorflow]",
   "language": "python",
   "name": "conda-env-tensorflow-py"
  },
  "language_info": {
   "codemirror_mode": {
    "name": "ipython",
    "version": 3
   },
   "file_extension": ".py",
   "mimetype": "text/x-python",
   "name": "python",
   "nbconvert_exporter": "python",
   "pygments_lexer": "ipython3",
   "version": "3.7.9"
  }
 },
 "nbformat": 4,
 "nbformat_minor": 2
}
